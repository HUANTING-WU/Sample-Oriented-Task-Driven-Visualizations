{
 "cells": [
  {
   "cell_type": "markdown",
   "metadata": {},
   "source": [
    "# Assignment 3 - Building a Custom Visualization\n",
    "\n",
    "---\n",
    "\n",
    "In this assignment you must choose one of the options presented below and submit a visual as well as your source code for peer grading. The details of how you solve the assignment are up to you, although your assignment must use matplotlib so that your peers can evaluate your work. The options differ in challenge level, but there are no grades associated with the challenge level you chose. However, your peers will be asked to ensure you at least met a minimum quality for a given technique in order to pass. Implement the technique fully (or exceed it!) and you should be able to earn full grades for the assignment.\n",
    "\n",
    "\n",
    "&nbsp;&nbsp;&nbsp;&nbsp;&nbsp;&nbsp;Ferreira, N., Fisher, D., & Konig, A. C. (2014, April). [Sample-oriented task-driven visualizations: allowing users to make better, more confident decisions.](https://www.microsoft.com/en-us/research/wp-content/uploads/2016/02/Ferreira_Fisher_Sample_Oriented_Tasks.pdf) In Proceedings of the SIGCHI Conference on Human Factors in Computing Systems (pp. 571-580). ACM. ([video](https://www.youtube.com/watch?v=BI7GAs-va-Q))\n",
    "\n",
    "\n",
    "In this [paper](https://www.microsoft.com/en-us/research/wp-content/uploads/2016/02/Ferreira_Fisher_Sample_Oriented_Tasks.pdf) the authors describe the challenges users face when trying to make judgements about probabilistic data generated through samples. As an example, they look at a bar chart of four years of data (replicated below in Figure 1). Each year has a y-axis value, which is derived from a sample of a larger dataset. For instance, the first value might be the number votes in a given district or riding for 1992, with the average being around 33,000. On top of this is plotted the 95% confidence interval for the mean (see the boxplot lectures for more information, and the yerr parameter of barcharts).\n",
    "\n",
    "<br>\n",
    "<img src=\"course 02 Assignment3Fig1.png\" alt=\"Figure 1\" style=\"width: 400px;\"/>\n",
    "<h4 style=\"text-align: center;\" markdown=\"1\">  &nbsp;&nbsp;&nbsp;&nbsp;&nbsp;&nbsp;&nbsp;&nbsp;Figure 1 from (Ferreira et al, 2014).</h4>\n",
    "\n",
    "<br>\n",
    "\n",
    "A challenge that users face is that, for a given y-axis value (e.g. 42,000), it is difficult to know which x-axis values are most likely to be representative, because the confidence levels overlap and their distributions are different (the lengths of the confidence interval bars are unequal). One of the solutions the authors propose for this problem (Figure 2c) is to allow users to indicate the y-axis value of interest (e.g. 42,000) and then draw a horizontal line and color bars based on this value. So bars might be colored red if they are definitely above this value (given the confidence interval), blue if they are definitely below this value, or white if they contain this value.\n",
    "\n",
    "\n",
    "<br>\n",
    "<img src=\"course 02 Assignment3Fig2c.png\" alt=\"Figure 1\" style=\"width: 400px;\"/>\n",
    "<h4 style=\"text-align: center;\" markdown=\"1\">  Figure 2c from (Ferreira et al. 2014). Note that the colorbar legend at the bottom as well as the arrows are not required in the assignment descriptions below.</h4>\n",
    "\n",
    "<br>\n",
    "<br>\n",
    "\n",
    "**Easiest option:** Implement the bar coloring as described above - a color scale with only three colors, (e.g. blue, white, and red). Assume the user provides the y axis value of interest as a parameter or variable.\n",
    "\n",
    "\n",
    "**Harder option:** Implement the bar coloring as described in the paper, where the color of the bar is actually based on the amount of data covered (e.g. a gradient ranging from dark blue for the distribution being certainly below this y-axis, to white if the value is certainly contained, to dark red if the value is certainly not contained as the distribution is above the axis).\n",
    "\n",
    "**Even Harder option:** Add interactivity to the above, which allows the user to click on the y axis to set the value of interest. The bar colors should change with respect to what value the user has selected.\n",
    "\n",
    "**Hardest option:** Allow the user to interactively set a range of y values they are interested in, and recolor based on this (e.g. a y-axis band, see the paper for more details).\n",
    "\n",
    "---\n",
    "\n",
    "*Note: The data given for this assignment is not the same as the data used in the article and as a result the visualizations may look a little different.*"
   ]
  },
  {
   "cell_type": "markdown",
   "metadata": {},
   "source": [
    "### There are two approaches here. The first appraoch is to let the user set a contant value for y by clicking. The seond appraoch is to let the user set a range for value for y."
   ]
  },
  {
   "cell_type": "markdown",
   "metadata": {},
   "source": [
    "### Note that if the graph is messed up in any instance after running one after another, one can restart kernel and run them again."
   ]
  },
  {
   "cell_type": "code",
   "execution_count": 1,
   "metadata": {},
   "outputs": [],
   "source": [
    "import pandas as pd\n",
    "import numpy as np\n",
    "import matplotlib\n",
    "import matplotlib.pyplot as plt\n",
    "import matplotlib.cm as cm\n",
    "import matplotlib.colors as colors\n",
    "from scipy import stats\n",
    "import ipywidgets as wg\n",
    "from IPython.display import display\n",
    "%matplotlib notebook"
   ]
  },
  {
   "cell_type": "code",
   "execution_count": 2,
   "metadata": {},
   "outputs": [],
   "source": [
    "np.random.seed(12345)\n",
    "\n",
    "df = pd.DataFrame([np.random.normal(32000,200000,3650), \n",
    "                   np.random.normal(43000,100000,3650), \n",
    "                   np.random.normal(43500,140000,3650), \n",
    "                   np.random.normal(48000,70000,3650)], \n",
    "                  index=[1992,1993,1994,1995])"
   ]
  },
  {
   "cell_type": "markdown",
   "metadata": {},
   "source": [
    "### The first appoach: choose a fixed value for y."
   ]
  },
  {
   "cell_type": "code",
   "execution_count": 3,
   "metadata": {},
   "outputs": [
    {
     "name": "stderr",
     "output_type": "stream",
     "text": [
      "/anaconda3/lib/python3.6/site-packages/matplotlib/cbook/deprecation.py:107: MatplotlibDeprecationWarning: Passing one of 'on', 'true', 'off', 'false' as a boolean is deprecated; use an actual boolean (True/False) instead.\n",
      "  warnings.warn(message, mplDeprecation, stacklevel=1)\n"
     ]
    },
    {
     "data": {
      "image/png": "[encoded data removed]",
      "text/plain": [
       "<Figure size 900x600 with 2 Axes>"
      ]
     },
     "metadata": {},
     "output_type": "display_data"
    }
   ],
   "source": [
    "matplotlib.rcParams['figure.figsize'] = (9, 6)\n",
    "matplotlib.rcParams['figure.dpi'] = (100)\n",
    "\n",
    "ci = []\n",
    "for _,row in df.iterrows():\n",
    "    bounds = stats.norm.interval(0.95, loc=np.mean(row), \n",
    "                                 scale=np.std(row)/np.sqrt(len(row)))\n",
    "    err = (bounds[1] - bounds[0])/2\n",
    "    ci.append(err)\n",
    "\n",
    "color_gradient = colors.LinearSegmentedColormap.from_list(\"BuWtRd\",['b','w','r'])\n",
    "color_pic = cm.ScalarMappable(colors.Normalize(0, 1), color_gradient)\n",
    "color_pic.set_array([])\n",
    "\n",
    "fig = plt.figure()\n",
    "color_bar = fig.colorbar(color_pic, ticks=[0,0.5,1])\n",
    "color_bar.set_ticklabels(['mean likely below y',\n",
    "                     '0.5\\nmean likely at y',\n",
    "                     'mean likely above y'])\n",
    "\n",
    "bars = (df.apply(np.mean, axis=1)\n",
    "        .plot(kind='bar',\n",
    "            color=color_pic.to_rgba([0.5]*len(df)),\n",
    "            edgecolor=['black']*4,\n",
    "            yerr=ci))\n",
    "\n",
    "plt.xticks(range(4), df.index, rotation='horizontal')\n",
    "plt.tick_params(bottom='off', left='off')\n",
    "for spine in plt.gca().spines.values():\n",
    "    spine.set_visible(False)\n",
    "\n",
    "def on_click(event):\n",
    "    plt.cla()\n",
    "    y_val = event.ydata\n",
    "    plt.axhline(y_val, c='black')\n",
    "    color_condition = []\n",
    "    for row in range(len(df)):\n",
    "        avg = np.mean(df.iloc[row])\n",
    "        std = np.std(df.iloc[row])/np.sqrt(len(df.iloc[row]))\n",
    "        cond_val = 1 - stats.norm.cdf(y_val, loc=avg, scale=std)\n",
    "        color_condition.append(cond_val)\n",
    "    bars = (df.apply(np.mean, axis=1)\n",
    "            .plot(kind='bar',\n",
    "                color=color_pic.to_rgba(color_condition),\n",
    "                edgecolor=['black']*4,\n",
    "                yerr=ci))\n",
    "    plt.xticks(range(4), df.index, rotation='horizontal') \n",
    "    plt.gca().set_title('Y Line = {}'.format(round(y_val,2)))\n",
    "\n",
    "plt.gcf().canvas.mpl_connect('button_press_event', on_click);"
   ]
  },
  {
   "cell_type": "markdown",
   "metadata": {},
   "source": [
    "### The second approach: choose a range for y."
   ]
  },
  {
   "cell_type": "code",
   "execution_count": 4,
   "metadata": {},
   "outputs": [
    {
     "data": {
      "application/vnd.jupyter.widget-view+json": {
       "model_id": "59f503a8cc07456fbcc8e98fe3dbc757",
       "version_major": 2,
       "version_minor": 0
      },
      "text/plain": [
       "interactive(children=(IntRangeSlider(value=(30000, 40000), continuous_update=False, description='Y Range', lay…"
      ]
     },
     "metadata": {},
     "output_type": "display_data"
    }
   ],
   "source": [
    "matplotlib.rcParams['figure.figsize'] = (16, 10)\n",
    "matplotlib.rcParams['figure.dpi'] = (100)\n",
    "\n",
    "ci = []\n",
    "for _,row in df.iterrows():\n",
    "    bounds = stats.norm.interval(0.95, loc=np.mean(row), scale=np.std(row)/np.sqrt(len(row)))\n",
    "    err = (bounds[1] - bounds[0])/2\n",
    "    ci.append(err)\n",
    "\n",
    "color_gradient = colors.LinearSegmentedColormap.from_list(\"BuWtRd\",['b','w','r'])\n",
    "color_map = cm.ScalarMappable(colors.Normalize(0,1), color_gradient)\n",
    "color_map.set_array([])\n",
    "\n",
    "def control_range(y_range):\n",
    "    plt.cla()\n",
    "    plt.axhline(y_range[0], color='black')\n",
    "    plt.axhline(y_range[1], color='black')\n",
    "    \n",
    "    y_set = set(range(*y_range))\n",
    "    color_condition = []\n",
    "    for row in range(len(df)):\n",
    "        avg = np.mean(df.iloc[row])\n",
    "        std = np.std(df.iloc[row])/np.sqrt(len(df.iloc[row]))\n",
    "        condition_value = stats.norm.cdf(max(y_set),loc=avg, scale=std) - stats.norm.cdf(min(y_set),\n",
    "                                    loc=avg, scale=std)\n",
    "        color_condition.append(condition_value)\n",
    "    color_bar = plt.colorbar(color_map, ticks=[0,0.5,1])\n",
    "    color_bar.set_ticklabels(['0\\nmean likely outside range',\n",
    "                         '0.5\\nmean likely at y',\n",
    "                         '1\\nmean likely inside range'])\n",
    "    color_bar.ax.tick_params(labelsize=14)\n",
    "    \n",
    "    bars = (df.apply(np.mean, axis=1)\n",
    "            .plot(kind='bar',color=color_map.to_rgba(color_condition),\n",
    "                  edgecolor=['black']*4,yerr=ci))\n",
    "    \n",
    "    plt.xticks(range(4), df.index, rotation='horizontal')\n",
    "    plt.tick_params(bottom='off', left='off', labelsize=14)\n",
    "    for spine in plt.gca().spines.values():\n",
    "        spine.set_visible(False)\n",
    "    plt.show()\n",
    "\n",
    "    \n",
    "y_range = wg.IntRangeSlider(value=[30000, 40000], min=0, max=50000, \n",
    "                            description='Y Range', orientation='horizontal', \n",
    "                            continuous_update=False,layout=wg.Layout(width='60%'))\n",
    "\n",
    "wg.interact(control_range, y_range=y_range);"
   ]
  },
  {
   "cell_type": "code",
   "execution_count": null,
   "metadata": {},
   "outputs": [],
   "source": []
  }
 ],
 "metadata": {
  "kernelspec": {
   "display_name": "Python 3",
   "language": "python",
   "name": "python3"
  },
  "language_info": {
   "codemirror_mode": {
    "name": "ipython",
    "version": 3
   },
   "file_extension": ".py",
   "mimetype": "text/x-python",
   "name": "python",
   "nbconvert_exporter": "python",
   "pygments_lexer": "ipython3",
   "version": "3.6.5"
  }
 },
 "nbformat": 4,
 "nbformat_minor": 2
}
